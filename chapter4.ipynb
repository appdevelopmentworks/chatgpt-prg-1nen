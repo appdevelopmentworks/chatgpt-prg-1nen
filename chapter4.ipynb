{
 "cells": [
  {
   "cell_type": "code",
   "execution_count": 1,
   "id": "7bd9cf6f-4fe7-446e-97e0-1a506660b29e",
   "metadata": {},
   "outputs": [
    {
     "name": "stdout",
     "output_type": "stream",
     "text": [
      "Collecting openai\n",
      "  Downloading openai-1.16.2-py3-none-any.whl.metadata (21 kB)\n",
      "Requirement already satisfied: anyio<5,>=3.5.0 in c:\\users\\hartm\\anaconda3\\lib\\site-packages (from openai) (4.2.0)\n",
      "Requirement already satisfied: distro<2,>=1.7.0 in c:\\users\\hartm\\anaconda3\\lib\\site-packages (from openai) (1.8.0)\n",
      "Collecting httpx<1,>=0.23.0 (from openai)\n",
      "  Downloading httpx-0.27.0-py3-none-any.whl.metadata (7.2 kB)\n",
      "Requirement already satisfied: pydantic<3,>=1.9.0 in c:\\users\\hartm\\anaconda3\\lib\\site-packages (from openai) (1.10.12)\n",
      "Requirement already satisfied: sniffio in c:\\users\\hartm\\anaconda3\\lib\\site-packages (from openai) (1.3.0)\n",
      "Requirement already satisfied: tqdm>4 in c:\\users\\hartm\\anaconda3\\lib\\site-packages (from openai) (4.65.0)\n",
      "Requirement already satisfied: typing-extensions<5,>=4.7 in c:\\users\\hartm\\anaconda3\\lib\\site-packages (from openai) (4.9.0)\n",
      "Requirement already satisfied: idna>=2.8 in c:\\users\\hartm\\anaconda3\\lib\\site-packages (from anyio<5,>=3.5.0->openai) (3.4)\n",
      "Requirement already satisfied: certifi in c:\\users\\hartm\\anaconda3\\lib\\site-packages (from httpx<1,>=0.23.0->openai) (2024.2.2)\n",
      "Collecting httpcore==1.* (from httpx<1,>=0.23.0->openai)\n",
      "  Downloading httpcore-1.0.5-py3-none-any.whl.metadata (20 kB)\n",
      "Collecting h11<0.15,>=0.13 (from httpcore==1.*->httpx<1,>=0.23.0->openai)\n",
      "  Downloading h11-0.14.0-py3-none-any.whl.metadata (8.2 kB)\n",
      "Requirement already satisfied: colorama in c:\\users\\hartm\\appdata\\roaming\\python\\python311\\site-packages (from tqdm>4->openai) (0.4.6)\n",
      "Downloading openai-1.16.2-py3-none-any.whl (267 kB)\n",
      "   ---------------------------------------- 0.0/267.1 kB ? eta -:--:--\n",
      "   ---------------------------------------  266.2/267.1 kB 5.4 MB/s eta 0:00:01\n",
      "   ---------------------------------------- 267.1/267.1 kB 4.1 MB/s eta 0:00:00\n",
      "Downloading httpx-0.27.0-py3-none-any.whl (75 kB)\n",
      "   ---------------------------------------- 0.0/75.6 kB ? eta -:--:--\n",
      "   ---------------------------------------- 75.6/75.6 kB 4.4 MB/s eta 0:00:00\n",
      "Downloading httpcore-1.0.5-py3-none-any.whl (77 kB)\n",
      "   ---------------------------------------- 0.0/77.9 kB ? eta -:--:--\n",
      "   ---------------------------------------- 77.9/77.9 kB 4.2 MB/s eta 0:00:00\n",
      "Downloading h11-0.14.0-py3-none-any.whl (58 kB)\n",
      "   ---------------------------------------- 0.0/58.3 kB ? eta -:--:--\n",
      "   ---------------------------------------- 58.3/58.3 kB 3.0 MB/s eta 0:00:00\n",
      "Installing collected packages: h11, httpcore, httpx, openai\n",
      "Successfully installed h11-0.14.0 httpcore-1.0.5 httpx-0.27.0 openai-1.16.2\n"
     ]
    }
   ],
   "source": [
    "!pip install openai"
   ]
  },
  {
   "cell_type": "code",
   "execution_count": 6,
   "id": "93f6acbc-32dc-4dac-a17b-536890e323fd",
   "metadata": {},
   "outputs": [
    {
     "name": "stdout",
     "output_type": "stream",
     "text": [
      "Requirement already satisfied: google-generativeai in c:\\users\\hartm\\anaconda3\\lib\\site-packages (0.4.1)\n",
      "Requirement already satisfied: google-ai-generativelanguage==0.4.0 in c:\\users\\hartm\\anaconda3\\lib\\site-packages (from google-generativeai) (0.4.0)\n",
      "Requirement already satisfied: google-auth>=2.15.0 in c:\\users\\hartm\\anaconda3\\lib\\site-packages (from google-generativeai) (2.28.2)\n",
      "Requirement already satisfied: google-api-core in c:\\users\\hartm\\anaconda3\\lib\\site-packages (from google-generativeai) (2.17.1)\n",
      "Requirement already satisfied: protobuf in c:\\users\\hartm\\anaconda3\\lib\\site-packages (from google-generativeai) (4.25.3)\n",
      "Requirement already satisfied: pydantic in c:\\users\\hartm\\anaconda3\\lib\\site-packages (from google-generativeai) (1.10.12)\n",
      "Requirement already satisfied: tqdm in c:\\users\\hartm\\anaconda3\\lib\\site-packages (from google-generativeai) (4.65.0)\n",
      "Requirement already satisfied: typing-extensions in c:\\users\\hartm\\anaconda3\\lib\\site-packages (from google-generativeai) (4.9.0)\n",
      "Requirement already satisfied: proto-plus<2.0.0dev,>=1.22.3 in c:\\users\\hartm\\anaconda3\\lib\\site-packages (from google-ai-generativelanguage==0.4.0->google-generativeai) (1.23.0)\n",
      "Requirement already satisfied: googleapis-common-protos<2.0.dev0,>=1.56.2 in c:\\users\\hartm\\anaconda3\\lib\\site-packages (from google-api-core->google-generativeai) (1.63.0)\n",
      "Requirement already satisfied: requests<3.0.0.dev0,>=2.18.0 in c:\\users\\hartm\\anaconda3\\lib\\site-packages (from google-api-core->google-generativeai) (2.31.0)\n",
      "Requirement already satisfied: cachetools<6.0,>=2.0.0 in c:\\users\\hartm\\anaconda3\\lib\\site-packages (from google-auth>=2.15.0->google-generativeai) (4.2.2)\n",
      "Requirement already satisfied: pyasn1-modules>=0.2.1 in c:\\users\\hartm\\anaconda3\\lib\\site-packages (from google-auth>=2.15.0->google-generativeai) (0.2.8)\n",
      "Requirement already satisfied: rsa<5,>=3.1.4 in c:\\users\\hartm\\anaconda3\\lib\\site-packages (from google-auth>=2.15.0->google-generativeai) (4.9)\n",
      "Requirement already satisfied: colorama in c:\\users\\hartm\\appdata\\roaming\\python\\python311\\site-packages (from tqdm->google-generativeai) (0.4.6)\n",
      "Requirement already satisfied: grpcio<2.0dev,>=1.33.2 in c:\\users\\hartm\\anaconda3\\lib\\site-packages (from google-api-core[grpc]!=2.0.*,!=2.1.*,!=2.10.*,!=2.2.*,!=2.3.*,!=2.4.*,!=2.5.*,!=2.6.*,!=2.7.*,!=2.8.*,!=2.9.*,<3.0.0dev,>=1.34.0->google-ai-generativelanguage==0.4.0->google-generativeai) (1.62.1)\n",
      "Requirement already satisfied: grpcio-status<2.0.dev0,>=1.33.2 in c:\\users\\hartm\\anaconda3\\lib\\site-packages (from google-api-core[grpc]!=2.0.*,!=2.1.*,!=2.10.*,!=2.2.*,!=2.3.*,!=2.4.*,!=2.5.*,!=2.6.*,!=2.7.*,!=2.8.*,!=2.9.*,<3.0.0dev,>=1.34.0->google-ai-generativelanguage==0.4.0->google-generativeai) (1.62.1)\n",
      "Requirement already satisfied: pyasn1<0.5.0,>=0.4.6 in c:\\users\\hartm\\anaconda3\\lib\\site-packages (from pyasn1-modules>=0.2.1->google-auth>=2.15.0->google-generativeai) (0.4.8)\n",
      "Requirement already satisfied: charset-normalizer<4,>=2 in c:\\users\\hartm\\anaconda3\\lib\\site-packages (from requests<3.0.0.dev0,>=2.18.0->google-api-core->google-generativeai) (2.0.4)\n",
      "Requirement already satisfied: idna<4,>=2.5 in c:\\users\\hartm\\anaconda3\\lib\\site-packages (from requests<3.0.0.dev0,>=2.18.0->google-api-core->google-generativeai) (3.4)\n",
      "Requirement already satisfied: urllib3<3,>=1.21.1 in c:\\users\\hartm\\anaconda3\\lib\\site-packages (from requests<3.0.0.dev0,>=2.18.0->google-api-core->google-generativeai) (2.0.7)\n",
      "Requirement already satisfied: certifi>=2017.4.17 in c:\\users\\hartm\\anaconda3\\lib\\site-packages (from requests<3.0.0.dev0,>=2.18.0->google-api-core->google-generativeai) (2024.2.2)\n"
     ]
    }
   ],
   "source": [
    "!pip install google-generativeai"
   ]
  },
  {
   "cell_type": "code",
   "execution_count": 1,
   "id": "b74ab275-d4c4-423f-b0c1-d7176e91994a",
   "metadata": {},
   "outputs": [],
   "source": [
    "import os"
   ]
  },
  {
   "cell_type": "markdown",
   "id": "a6fffa92-f02e-4712-b7ad-0bc8aac80f31",
   "metadata": {},
   "source": [
    "ChatGPTのAPIの場合"
   ]
  },
  {
   "cell_type": "code",
   "execution_count": 19,
   "id": "a2ce6be9-e819-429c-89a7-69ae1415cc47",
   "metadata": {},
   "outputs": [],
   "source": [
    "from openai import OpenAI"
   ]
  },
  {
   "cell_type": "code",
   "execution_count": 20,
   "id": "3f5353bb-78a1-41ce-aaf1-0c18df64d35a",
   "metadata": {},
   "outputs": [
    {
     "name": "stdout",
     "output_type": "stream",
     "text": [
      "ChatGPTは、オープンAIが開発した人工知能チャットボットです。ユーザーとの会話を通じて質問に答えたり、雑談をすることができます。ChatGPTは大規模な文章データセットから学習しており、自然な会話を行うことができます。そのため、さまざまなトピックに関する質問や会話に対応することができます。\n"
     ]
    }
   ],
   "source": [
    "client = OpenAI(api_key=os.environ['OPENAI_API_KEY'])\n",
    "\n",
    "Q1 = \"ChatGPTって何？\"\n",
    "\n",
    "responce = client.chat.completions.create(\n",
    "    model = \"gpt-3.5-turbo\",\n",
    "    messages = [\n",
    "    {\"role\": \"user\", \"content\": Q1}\n",
    "    ]\n",
    ")\n",
    "#一気に表視させる場合\n",
    "print(responce.choices[0].message.content)"
   ]
  },
  {
   "cell_type": "code",
   "execution_count": 21,
   "id": "6b080d11-2b1a-4244-b79a-62a53d08664b",
   "metadata": {},
   "outputs": [
    {
     "name": "stdout",
     "output_type": "stream",
     "text": [
      "ChatGPTは、OpenAIが開発した自然言語処理モデルです。このモデルは、大規模なテキストデータセットを使って訓練されており、人間のような自然な対話を行うことができます。ChatGPTは、会話の流れを理解し、応答を生成する際にコンテキストを考慮することができます。このような人間らしい会話スタイルを持つChatGPTは、カスタマーサポート、教育、エンターテイメントなど、さまざまな分野で活用されています。\n",
      "【終了】\n"
     ]
    }
   ],
   "source": [
    "client = OpenAI(api_key=os.environ['OPENAI_API_KEY'])\n",
    "\n",
    "Q1 = \"ChatGPTって何？\"\n",
    "\n",
    "stream = client.chat.completions.create(\n",
    "    model = \"gpt-3.5-turbo\",\n",
    "    messages = [\n",
    "    {\"role\": \"user\", \"content\": Q1}\n",
    "    ],\n",
    "    stream=True\n",
    ")\n",
    "\n",
    "#少しづつ表示させる場合\n",
    "for chunk in stream:\n",
    "    content = chunk.choices[0].delta.content or \"\"\n",
    "    print(content, end=\"\")\n",
    "\n",
    "print(\"\\n【終了】\")"
   ]
  },
  {
   "cell_type": "code",
   "execution_count": 12,
   "id": "9e0115f3-587b-4b01-9493-3ea6f9157e02",
   "metadata": {},
   "outputs": [
    {
     "name": "stdout",
     "output_type": "stream",
     "text": [
      "データの欠損値を取り扱う方法はいくつかあります。以下にいくつかの一般的な対処方法を挙げます。\n",
      "\n",
      "1. 欠損値を削除する: 欠損値を含む行や列を削除する方法です。`dropna()`メソッドを使用して行や列の削除が可能です。\n",
      "\n",
      "2. 欠損値を特定の値で置き換える: 欠損値を特定の値（例: 平均値、中央値、最頻値）で置き換える方法です。`fillna()`メソッドを使用して欠損値を指定した値で置き換えることができます。\n",
      "\n",
      "3. 欠損値を補完する: 欠損値を周囲のデータを元に予測して補完する方法です。例えば、線形補完やKNN（k-最近傍法）を使用して欠損値を補完することができます。\n",
      "\n",
      "4. 欠損値の情報を利用する: 欠損値が何らかの意味を持つ場合、欠損値をそのまま扱う方法もあります。欠損値が意味を持つ場合には、その情報を利用してデータ解析を行うことができます。\n",
      "\n",
      "データの性質や解析の目的に合わせて、適切な欠損値処理方法を選択してください。\n",
      "【終了】\n"
     ]
    }
   ],
   "source": [
    "client = OpenAI(api_key=os.environ['OPENAI_API_KEY'])\n",
    "\n",
    "role = \"あなたは優れたプログラマーです。\"\n",
    "Q1 = \"Pythonでのデータ解析のヒントを教えて。\"\n",
    "A1 = \"PandasとNumpyを活用すると効果的です。\"\n",
    "Q2 = \"データに欠損があるときの対処方法は？\"\n",
    "\n",
    "stream = client.chat.completions.create(\n",
    "    model = \"gpt-3.5-turbo\",\n",
    "    messages = [\n",
    "        {\"role\": \"system\", \"content\": role},\n",
    "        {\"role\": \"user\", \"content\": Q1},\n",
    "        {\"role\": \"assistant\", \"content\": A1},\n",
    "        {\"role\": \"user\", \"content\": Q2}\n",
    "    ],\n",
    "    stream=True\n",
    ")\n",
    "\n",
    "#少しづつ表示させる場合\n",
    "for chunk in stream:\n",
    "    content = chunk.choices[0].delta.content or \"\"\n",
    "    print(content, end=\"\")\n",
    "\n",
    "print(\"\\n【終了】\")"
   ]
  },
  {
   "cell_type": "markdown",
   "id": "386ce07d-332f-4877-97c6-acf9ab46a7ac",
   "metadata": {},
   "source": [
    "GeminiのAPIの場合"
   ]
  },
  {
   "cell_type": "code",
   "execution_count": 13,
   "id": "62ab579d-789b-490a-9418-0c1b802ad279",
   "metadata": {},
   "outputs": [],
   "source": [
    "import google.generativeai as genai"
   ]
  },
  {
   "cell_type": "code",
   "execution_count": 15,
   "id": "c397631f-1ac8-4a27-99f8-b4dffa064c10",
   "metadata": {},
   "outputs": [
    {
     "name": "stdout",
     "output_type": "stream",
     "text": [
      "ChatGPT は OpenAI によって開発された、大規模な言語モデル（LLM）です。LLM は、大量のテキストデータを学習して、さまざまな言語タスクを実行できます。\n",
      "\n",
      "ChatGPT は、人間のように自然なテキストを生成し、質問に答えたり、ストーリーを書いたり、コードを生成したりすることができます。また、翻訳、要約、感情分析などのタスクも実行できます。\n",
      "\n",
      "ChatGPT は、GPT（Generative Pre-trained Transformer）アーキテクチャに基づいており、1,750億個のパラメータでトレーニングされています。この大規模なトレーニングにより、非常に強力で汎用性の高い言語モデルになっています。\n",
      "\n",
      "ChatGPT は、チャットボット、仮想アシスタント、コンテンツ生成ツールなどのさまざまなアプリケーションに使用されています。また、医療、教育、金融などの分野でも実用化が進んでいます。\n"
     ]
    }
   ],
   "source": [
    "GOOGLE_API_KEY = os.environ['GOOGLE_API_KEY']\n",
    "genai.configure(api_key=GOOGLE_API_KEY)\n",
    "model = genai.GenerativeModel('gemini-pro')\n",
    "\n",
    "response = model.generate_content(\"ChatGPTって何？\")\n",
    "print(response.text)"
   ]
  },
  {
   "cell_type": "code",
   "execution_count": null,
   "id": "a64e67da-9f35-40e3-a717-2dd537c811a2",
   "metadata": {},
   "outputs": [],
   "source": []
  }
 ],
 "metadata": {
  "kernelspec": {
   "display_name": "Python 3 (ipykernel)",
   "language": "python",
   "name": "python3"
  },
  "language_info": {
   "codemirror_mode": {
    "name": "ipython",
    "version": 3
   },
   "file_extension": ".py",
   "mimetype": "text/x-python",
   "name": "python",
   "nbconvert_exporter": "python",
   "pygments_lexer": "ipython3",
   "version": "3.11.7"
  }
 },
 "nbformat": 4,
 "nbformat_minor": 5
}
